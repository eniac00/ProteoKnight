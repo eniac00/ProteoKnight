{
  "nbformat": 4,
  "nbformat_minor": 0,
  "metadata": {
    "colab": {
      "provenance": [],
      "collapsed_sections": [
        "I16OJZms5TKF"
      ],
      "gpuType": "T4"
    },
    "kernelspec": {
      "name": "python3",
      "display_name": "Python 3"
    },
    "language_info": {
      "name": "python"
    },
    "accelerator": "GPU",
    "widgets": {
      "application/vnd.jupyter.widget-state+json": {
        "e03901dffe7b430190c15fabbe762bc7": {
          "model_module": "@jupyter-widgets/controls",
          "model_name": "HBoxModel",
          "model_module_version": "1.5.0",
          "state": {
            "_dom_classes": [],
            "_model_module": "@jupyter-widgets/controls",
            "_model_module_version": "1.5.0",
            "_model_name": "HBoxModel",
            "_view_count": null,
            "_view_module": "@jupyter-widgets/controls",
            "_view_module_version": "1.5.0",
            "_view_name": "HBoxView",
            "box_style": "",
            "children": [
              "IPY_MODEL_280e3ab1dc1f4ba790594589f203d368",
              "IPY_MODEL_d3440cd03d1243b38a8809e955abcd32",
              "IPY_MODEL_373e4bd8bc3645508ee60e459e4ff135"
            ],
            "layout": "IPY_MODEL_71b0f04a109b4ce69d9a4d1e993a53a0"
          }
        },
        "280e3ab1dc1f4ba790594589f203d368": {
          "model_module": "@jupyter-widgets/controls",
          "model_name": "HTMLModel",
          "model_module_version": "1.5.0",
          "state": {
            "_dom_classes": [],
            "_model_module": "@jupyter-widgets/controls",
            "_model_module_version": "1.5.0",
            "_model_name": "HTMLModel",
            "_view_count": null,
            "_view_module": "@jupyter-widgets/controls",
            "_view_module_version": "1.5.0",
            "_view_name": "HTMLView",
            "description": "",
            "description_tooltip": null,
            "layout": "IPY_MODEL_4e6878af45ad46869cd21d9dd488b0c9",
            "placeholder": "​",
            "style": "IPY_MODEL_e58c264e3a364de68e83a13366c8d68a",
            "value": "100%"
          }
        },
        "d3440cd03d1243b38a8809e955abcd32": {
          "model_module": "@jupyter-widgets/controls",
          "model_name": "FloatProgressModel",
          "model_module_version": "1.5.0",
          "state": {
            "_dom_classes": [],
            "_model_module": "@jupyter-widgets/controls",
            "_model_module_version": "1.5.0",
            "_model_name": "FloatProgressModel",
            "_view_count": null,
            "_view_module": "@jupyter-widgets/controls",
            "_view_module_version": "1.5.0",
            "_view_name": "ProgressView",
            "bar_style": "success",
            "description": "",
            "description_tooltip": null,
            "layout": "IPY_MODEL_a0da9c6dc18a4a50a0dab1cceab7c17d",
            "max": 100,
            "min": 0,
            "orientation": "horizontal",
            "style": "IPY_MODEL_39bf53e48eb34dc08e084db1ee70eb5d",
            "value": 100
          }
        },
        "373e4bd8bc3645508ee60e459e4ff135": {
          "model_module": "@jupyter-widgets/controls",
          "model_name": "HTMLModel",
          "model_module_version": "1.5.0",
          "state": {
            "_dom_classes": [],
            "_model_module": "@jupyter-widgets/controls",
            "_model_module_version": "1.5.0",
            "_model_name": "HTMLModel",
            "_view_count": null,
            "_view_module": "@jupyter-widgets/controls",
            "_view_module_version": "1.5.0",
            "_view_name": "HTMLView",
            "description": "",
            "description_tooltip": null,
            "layout": "IPY_MODEL_8b596fb4d03b4da19fa39b78d27476d4",
            "placeholder": "​",
            "style": "IPY_MODEL_8b4d9a61723a4fe5ac613e68ab7a4c08",
            "value": " 100/100 [00:52&lt;00:00,  2.14it/s]"
          }
        },
        "71b0f04a109b4ce69d9a4d1e993a53a0": {
          "model_module": "@jupyter-widgets/base",
          "model_name": "LayoutModel",
          "model_module_version": "1.2.0",
          "state": {
            "_model_module": "@jupyter-widgets/base",
            "_model_module_version": "1.2.0",
            "_model_name": "LayoutModel",
            "_view_count": null,
            "_view_module": "@jupyter-widgets/base",
            "_view_module_version": "1.2.0",
            "_view_name": "LayoutView",
            "align_content": null,
            "align_items": null,
            "align_self": null,
            "border": null,
            "bottom": null,
            "display": null,
            "flex": null,
            "flex_flow": null,
            "grid_area": null,
            "grid_auto_columns": null,
            "grid_auto_flow": null,
            "grid_auto_rows": null,
            "grid_column": null,
            "grid_gap": null,
            "grid_row": null,
            "grid_template_areas": null,
            "grid_template_columns": null,
            "grid_template_rows": null,
            "height": null,
            "justify_content": null,
            "justify_items": null,
            "left": null,
            "margin": null,
            "max_height": null,
            "max_width": null,
            "min_height": null,
            "min_width": null,
            "object_fit": null,
            "object_position": null,
            "order": null,
            "overflow": null,
            "overflow_x": null,
            "overflow_y": null,
            "padding": null,
            "right": null,
            "top": null,
            "visibility": null,
            "width": null
          }
        },
        "4e6878af45ad46869cd21d9dd488b0c9": {
          "model_module": "@jupyter-widgets/base",
          "model_name": "LayoutModel",
          "model_module_version": "1.2.0",
          "state": {
            "_model_module": "@jupyter-widgets/base",
            "_model_module_version": "1.2.0",
            "_model_name": "LayoutModel",
            "_view_count": null,
            "_view_module": "@jupyter-widgets/base",
            "_view_module_version": "1.2.0",
            "_view_name": "LayoutView",
            "align_content": null,
            "align_items": null,
            "align_self": null,
            "border": null,
            "bottom": null,
            "display": null,
            "flex": null,
            "flex_flow": null,
            "grid_area": null,
            "grid_auto_columns": null,
            "grid_auto_flow": null,
            "grid_auto_rows": null,
            "grid_column": null,
            "grid_gap": null,
            "grid_row": null,
            "grid_template_areas": null,
            "grid_template_columns": null,
            "grid_template_rows": null,
            "height": null,
            "justify_content": null,
            "justify_items": null,
            "left": null,
            "margin": null,
            "max_height": null,
            "max_width": null,
            "min_height": null,
            "min_width": null,
            "object_fit": null,
            "object_position": null,
            "order": null,
            "overflow": null,
            "overflow_x": null,
            "overflow_y": null,
            "padding": null,
            "right": null,
            "top": null,
            "visibility": null,
            "width": null
          }
        },
        "e58c264e3a364de68e83a13366c8d68a": {
          "model_module": "@jupyter-widgets/controls",
          "model_name": "DescriptionStyleModel",
          "model_module_version": "1.5.0",
          "state": {
            "_model_module": "@jupyter-widgets/controls",
            "_model_module_version": "1.5.0",
            "_model_name": "DescriptionStyleModel",
            "_view_count": null,
            "_view_module": "@jupyter-widgets/base",
            "_view_module_version": "1.2.0",
            "_view_name": "StyleView",
            "description_width": ""
          }
        },
        "a0da9c6dc18a4a50a0dab1cceab7c17d": {
          "model_module": "@jupyter-widgets/base",
          "model_name": "LayoutModel",
          "model_module_version": "1.2.0",
          "state": {
            "_model_module": "@jupyter-widgets/base",
            "_model_module_version": "1.2.0",
            "_model_name": "LayoutModel",
            "_view_count": null,
            "_view_module": "@jupyter-widgets/base",
            "_view_module_version": "1.2.0",
            "_view_name": "LayoutView",
            "align_content": null,
            "align_items": null,
            "align_self": null,
            "border": null,
            "bottom": null,
            "display": null,
            "flex": null,
            "flex_flow": null,
            "grid_area": null,
            "grid_auto_columns": null,
            "grid_auto_flow": null,
            "grid_auto_rows": null,
            "grid_column": null,
            "grid_gap": null,
            "grid_row": null,
            "grid_template_areas": null,
            "grid_template_columns": null,
            "grid_template_rows": null,
            "height": null,
            "justify_content": null,
            "justify_items": null,
            "left": null,
            "margin": null,
            "max_height": null,
            "max_width": null,
            "min_height": null,
            "min_width": null,
            "object_fit": null,
            "object_position": null,
            "order": null,
            "overflow": null,
            "overflow_x": null,
            "overflow_y": null,
            "padding": null,
            "right": null,
            "top": null,
            "visibility": null,
            "width": null
          }
        },
        "39bf53e48eb34dc08e084db1ee70eb5d": {
          "model_module": "@jupyter-widgets/controls",
          "model_name": "ProgressStyleModel",
          "model_module_version": "1.5.0",
          "state": {
            "_model_module": "@jupyter-widgets/controls",
            "_model_module_version": "1.5.0",
            "_model_name": "ProgressStyleModel",
            "_view_count": null,
            "_view_module": "@jupyter-widgets/base",
            "_view_module_version": "1.2.0",
            "_view_name": "StyleView",
            "bar_color": null,
            "description_width": ""
          }
        },
        "8b596fb4d03b4da19fa39b78d27476d4": {
          "model_module": "@jupyter-widgets/base",
          "model_name": "LayoutModel",
          "model_module_version": "1.2.0",
          "state": {
            "_model_module": "@jupyter-widgets/base",
            "_model_module_version": "1.2.0",
            "_model_name": "LayoutModel",
            "_view_count": null,
            "_view_module": "@jupyter-widgets/base",
            "_view_module_version": "1.2.0",
            "_view_name": "LayoutView",
            "align_content": null,
            "align_items": null,
            "align_self": null,
            "border": null,
            "bottom": null,
            "display": null,
            "flex": null,
            "flex_flow": null,
            "grid_area": null,
            "grid_auto_columns": null,
            "grid_auto_flow": null,
            "grid_auto_rows": null,
            "grid_column": null,
            "grid_gap": null,
            "grid_row": null,
            "grid_template_areas": null,
            "grid_template_columns": null,
            "grid_template_rows": null,
            "height": null,
            "justify_content": null,
            "justify_items": null,
            "left": null,
            "margin": null,
            "max_height": null,
            "max_width": null,
            "min_height": null,
            "min_width": null,
            "object_fit": null,
            "object_position": null,
            "order": null,
            "overflow": null,
            "overflow_x": null,
            "overflow_y": null,
            "padding": null,
            "right": null,
            "top": null,
            "visibility": null,
            "width": null
          }
        },
        "8b4d9a61723a4fe5ac613e68ab7a4c08": {
          "model_module": "@jupyter-widgets/controls",
          "model_name": "DescriptionStyleModel",
          "model_module_version": "1.5.0",
          "state": {
            "_model_module": "@jupyter-widgets/controls",
            "_model_module_version": "1.5.0",
            "_model_name": "DescriptionStyleModel",
            "_view_count": null,
            "_view_module": "@jupyter-widgets/base",
            "_view_module_version": "1.2.0",
            "_view_name": "StyleView",
            "description_width": ""
          }
        },
        "3807d1bd410a4e88b6580e66ccaeaf76": {
          "model_module": "@jupyter-widgets/controls",
          "model_name": "HBoxModel",
          "model_module_version": "1.5.0",
          "state": {
            "_dom_classes": [],
            "_model_module": "@jupyter-widgets/controls",
            "_model_module_version": "1.5.0",
            "_model_name": "HBoxModel",
            "_view_count": null,
            "_view_module": "@jupyter-widgets/controls",
            "_view_module_version": "1.5.0",
            "_view_name": "HBoxView",
            "box_style": "",
            "children": [
              "IPY_MODEL_c984654841704e57b95e78de810f95ad",
              "IPY_MODEL_e3562b59b0934a0998b5423f7768c152",
              "IPY_MODEL_7ecc652532b94a099c1bec1b2fa2ac82"
            ],
            "layout": "IPY_MODEL_244b439e6ecf473bbe7695dc3c87c767"
          }
        },
        "c984654841704e57b95e78de810f95ad": {
          "model_module": "@jupyter-widgets/controls",
          "model_name": "HTMLModel",
          "model_module_version": "1.5.0",
          "state": {
            "_dom_classes": [],
            "_model_module": "@jupyter-widgets/controls",
            "_model_module_version": "1.5.0",
            "_model_name": "HTMLModel",
            "_view_count": null,
            "_view_module": "@jupyter-widgets/controls",
            "_view_module_version": "1.5.0",
            "_view_name": "HTMLView",
            "description": "",
            "description_tooltip": null,
            "layout": "IPY_MODEL_a2adf907c66e490dbd5f0e3571693476",
            "placeholder": "​",
            "style": "IPY_MODEL_ca4ccbf268514fe2b84a3049307784c7",
            "value": "100%"
          }
        },
        "e3562b59b0934a0998b5423f7768c152": {
          "model_module": "@jupyter-widgets/controls",
          "model_name": "FloatProgressModel",
          "model_module_version": "1.5.0",
          "state": {
            "_dom_classes": [],
            "_model_module": "@jupyter-widgets/controls",
            "_model_module_version": "1.5.0",
            "_model_name": "FloatProgressModel",
            "_view_count": null,
            "_view_module": "@jupyter-widgets/controls",
            "_view_module_version": "1.5.0",
            "_view_name": "ProgressView",
            "bar_style": "success",
            "description": "",
            "description_tooltip": null,
            "layout": "IPY_MODEL_08f4c7088fb441e889e02e9c7ab31a1a",
            "max": 100,
            "min": 0,
            "orientation": "horizontal",
            "style": "IPY_MODEL_6043534471514761a62ecddd446a8683",
            "value": 100
          }
        },
        "7ecc652532b94a099c1bec1b2fa2ac82": {
          "model_module": "@jupyter-widgets/controls",
          "model_name": "HTMLModel",
          "model_module_version": "1.5.0",
          "state": {
            "_dom_classes": [],
            "_model_module": "@jupyter-widgets/controls",
            "_model_module_version": "1.5.0",
            "_model_name": "HTMLModel",
            "_view_count": null,
            "_view_module": "@jupyter-widgets/controls",
            "_view_module_version": "1.5.0",
            "_view_name": "HTMLView",
            "description": "",
            "description_tooltip": null,
            "layout": "IPY_MODEL_5ef0e17169da4b75a65061d0ff74e5c3",
            "placeholder": "​",
            "style": "IPY_MODEL_05f0d711cc3c41d8ac06295f9e5c19b3",
            "value": " 100/100 [00:53&lt;00:00,  1.95it/s]"
          }
        },
        "244b439e6ecf473bbe7695dc3c87c767": {
          "model_module": "@jupyter-widgets/base",
          "model_name": "LayoutModel",
          "model_module_version": "1.2.0",
          "state": {
            "_model_module": "@jupyter-widgets/base",
            "_model_module_version": "1.2.0",
            "_model_name": "LayoutModel",
            "_view_count": null,
            "_view_module": "@jupyter-widgets/base",
            "_view_module_version": "1.2.0",
            "_view_name": "LayoutView",
            "align_content": null,
            "align_items": null,
            "align_self": null,
            "border": null,
            "bottom": null,
            "display": null,
            "flex": null,
            "flex_flow": null,
            "grid_area": null,
            "grid_auto_columns": null,
            "grid_auto_flow": null,
            "grid_auto_rows": null,
            "grid_column": null,
            "grid_gap": null,
            "grid_row": null,
            "grid_template_areas": null,
            "grid_template_columns": null,
            "grid_template_rows": null,
            "height": null,
            "justify_content": null,
            "justify_items": null,
            "left": null,
            "margin": null,
            "max_height": null,
            "max_width": null,
            "min_height": null,
            "min_width": null,
            "object_fit": null,
            "object_position": null,
            "order": null,
            "overflow": null,
            "overflow_x": null,
            "overflow_y": null,
            "padding": null,
            "right": null,
            "top": null,
            "visibility": null,
            "width": null
          }
        },
        "a2adf907c66e490dbd5f0e3571693476": {
          "model_module": "@jupyter-widgets/base",
          "model_name": "LayoutModel",
          "model_module_version": "1.2.0",
          "state": {
            "_model_module": "@jupyter-widgets/base",
            "_model_module_version": "1.2.0",
            "_model_name": "LayoutModel",
            "_view_count": null,
            "_view_module": "@jupyter-widgets/base",
            "_view_module_version": "1.2.0",
            "_view_name": "LayoutView",
            "align_content": null,
            "align_items": null,
            "align_self": null,
            "border": null,
            "bottom": null,
            "display": null,
            "flex": null,
            "flex_flow": null,
            "grid_area": null,
            "grid_auto_columns": null,
            "grid_auto_flow": null,
            "grid_auto_rows": null,
            "grid_column": null,
            "grid_gap": null,
            "grid_row": null,
            "grid_template_areas": null,
            "grid_template_columns": null,
            "grid_template_rows": null,
            "height": null,
            "justify_content": null,
            "justify_items": null,
            "left": null,
            "margin": null,
            "max_height": null,
            "max_width": null,
            "min_height": null,
            "min_width": null,
            "object_fit": null,
            "object_position": null,
            "order": null,
            "overflow": null,
            "overflow_x": null,
            "overflow_y": null,
            "padding": null,
            "right": null,
            "top": null,
            "visibility": null,
            "width": null
          }
        },
        "ca4ccbf268514fe2b84a3049307784c7": {
          "model_module": "@jupyter-widgets/controls",
          "model_name": "DescriptionStyleModel",
          "model_module_version": "1.5.0",
          "state": {
            "_model_module": "@jupyter-widgets/controls",
            "_model_module_version": "1.5.0",
            "_model_name": "DescriptionStyleModel",
            "_view_count": null,
            "_view_module": "@jupyter-widgets/base",
            "_view_module_version": "1.2.0",
            "_view_name": "StyleView",
            "description_width": ""
          }
        },
        "08f4c7088fb441e889e02e9c7ab31a1a": {
          "model_module": "@jupyter-widgets/base",
          "model_name": "LayoutModel",
          "model_module_version": "1.2.0",
          "state": {
            "_model_module": "@jupyter-widgets/base",
            "_model_module_version": "1.2.0",
            "_model_name": "LayoutModel",
            "_view_count": null,
            "_view_module": "@jupyter-widgets/base",
            "_view_module_version": "1.2.0",
            "_view_name": "LayoutView",
            "align_content": null,
            "align_items": null,
            "align_self": null,
            "border": null,
            "bottom": null,
            "display": null,
            "flex": null,
            "flex_flow": null,
            "grid_area": null,
            "grid_auto_columns": null,
            "grid_auto_flow": null,
            "grid_auto_rows": null,
            "grid_column": null,
            "grid_gap": null,
            "grid_row": null,
            "grid_template_areas": null,
            "grid_template_columns": null,
            "grid_template_rows": null,
            "height": null,
            "justify_content": null,
            "justify_items": null,
            "left": null,
            "margin": null,
            "max_height": null,
            "max_width": null,
            "min_height": null,
            "min_width": null,
            "object_fit": null,
            "object_position": null,
            "order": null,
            "overflow": null,
            "overflow_x": null,
            "overflow_y": null,
            "padding": null,
            "right": null,
            "top": null,
            "visibility": null,
            "width": null
          }
        },
        "6043534471514761a62ecddd446a8683": {
          "model_module": "@jupyter-widgets/controls",
          "model_name": "ProgressStyleModel",
          "model_module_version": "1.5.0",
          "state": {
            "_model_module": "@jupyter-widgets/controls",
            "_model_module_version": "1.5.0",
            "_model_name": "ProgressStyleModel",
            "_view_count": null,
            "_view_module": "@jupyter-widgets/base",
            "_view_module_version": "1.2.0",
            "_view_name": "StyleView",
            "bar_color": null,
            "description_width": ""
          }
        },
        "5ef0e17169da4b75a65061d0ff74e5c3": {
          "model_module": "@jupyter-widgets/base",
          "model_name": "LayoutModel",
          "model_module_version": "1.2.0",
          "state": {
            "_model_module": "@jupyter-widgets/base",
            "_model_module_version": "1.2.0",
            "_model_name": "LayoutModel",
            "_view_count": null,
            "_view_module": "@jupyter-widgets/base",
            "_view_module_version": "1.2.0",
            "_view_name": "LayoutView",
            "align_content": null,
            "align_items": null,
            "align_self": null,
            "border": null,
            "bottom": null,
            "display": null,
            "flex": null,
            "flex_flow": null,
            "grid_area": null,
            "grid_auto_columns": null,
            "grid_auto_flow": null,
            "grid_auto_rows": null,
            "grid_column": null,
            "grid_gap": null,
            "grid_row": null,
            "grid_template_areas": null,
            "grid_template_columns": null,
            "grid_template_rows": null,
            "height": null,
            "justify_content": null,
            "justify_items": null,
            "left": null,
            "margin": null,
            "max_height": null,
            "max_width": null,
            "min_height": null,
            "min_width": null,
            "object_fit": null,
            "object_position": null,
            "order": null,
            "overflow": null,
            "overflow_x": null,
            "overflow_y": null,
            "padding": null,
            "right": null,
            "top": null,
            "visibility": null,
            "width": null
          }
        },
        "05f0d711cc3c41d8ac06295f9e5c19b3": {
          "model_module": "@jupyter-widgets/controls",
          "model_name": "DescriptionStyleModel",
          "model_module_version": "1.5.0",
          "state": {
            "_model_module": "@jupyter-widgets/controls",
            "_model_module_version": "1.5.0",
            "_model_name": "DescriptionStyleModel",
            "_view_count": null,
            "_view_module": "@jupyter-widgets/base",
            "_view_module_version": "1.2.0",
            "_view_name": "StyleView",
            "description_width": ""
          }
        },
        "c2fc3870c2c04225a96a8305df070189": {
          "model_module": "@jupyter-widgets/controls",
          "model_name": "HBoxModel",
          "model_module_version": "1.5.0",
          "state": {
            "_dom_classes": [],
            "_model_module": "@jupyter-widgets/controls",
            "_model_module_version": "1.5.0",
            "_model_name": "HBoxModel",
            "_view_count": null,
            "_view_module": "@jupyter-widgets/controls",
            "_view_module_version": "1.5.0",
            "_view_name": "HBoxView",
            "box_style": "",
            "children": [
              "IPY_MODEL_2b5b9f3c4276448593115f0a9aff3533",
              "IPY_MODEL_59c0d8e642c645799eb4e021253e59b5",
              "IPY_MODEL_82eb106ed2954a36973d990a3cfcdd2e"
            ],
            "layout": "IPY_MODEL_d950b98842fc4d3395aa0977d068cb5c"
          }
        },
        "2b5b9f3c4276448593115f0a9aff3533": {
          "model_module": "@jupyter-widgets/controls",
          "model_name": "HTMLModel",
          "model_module_version": "1.5.0",
          "state": {
            "_dom_classes": [],
            "_model_module": "@jupyter-widgets/controls",
            "_model_module_version": "1.5.0",
            "_model_name": "HTMLModel",
            "_view_count": null,
            "_view_module": "@jupyter-widgets/controls",
            "_view_module_version": "1.5.0",
            "_view_name": "HTMLView",
            "description": "",
            "description_tooltip": null,
            "layout": "IPY_MODEL_7669fab8bba148f6974cd712f3c931e3",
            "placeholder": "​",
            "style": "IPY_MODEL_777884bfaca9483dbda5dbbe399062d6",
            "value": "100%"
          }
        },
        "59c0d8e642c645799eb4e021253e59b5": {
          "model_module": "@jupyter-widgets/controls",
          "model_name": "FloatProgressModel",
          "model_module_version": "1.5.0",
          "state": {
            "_dom_classes": [],
            "_model_module": "@jupyter-widgets/controls",
            "_model_module_version": "1.5.0",
            "_model_name": "FloatProgressModel",
            "_view_count": null,
            "_view_module": "@jupyter-widgets/controls",
            "_view_module_version": "1.5.0",
            "_view_name": "ProgressView",
            "bar_style": "success",
            "description": "",
            "description_tooltip": null,
            "layout": "IPY_MODEL_29a80eb1d9b54f9b8ce450e86212277a",
            "max": 100,
            "min": 0,
            "orientation": "horizontal",
            "style": "IPY_MODEL_5a7c6abd2dc046c085aa2f0e9ea51e1a",
            "value": 100
          }
        },
        "82eb106ed2954a36973d990a3cfcdd2e": {
          "model_module": "@jupyter-widgets/controls",
          "model_name": "HTMLModel",
          "model_module_version": "1.5.0",
          "state": {
            "_dom_classes": [],
            "_model_module": "@jupyter-widgets/controls",
            "_model_module_version": "1.5.0",
            "_model_name": "HTMLModel",
            "_view_count": null,
            "_view_module": "@jupyter-widgets/controls",
            "_view_module_version": "1.5.0",
            "_view_name": "HTMLView",
            "description": "",
            "description_tooltip": null,
            "layout": "IPY_MODEL_d5660f8c5a8546f4b4893dd26c804231",
            "placeholder": "​",
            "style": "IPY_MODEL_aff1da8ea4e04733a05ccfe82ed0b407",
            "value": " 100/100 [00:51&lt;00:00,  2.15it/s]"
          }
        },
        "d950b98842fc4d3395aa0977d068cb5c": {
          "model_module": "@jupyter-widgets/base",
          "model_name": "LayoutModel",
          "model_module_version": "1.2.0",
          "state": {
            "_model_module": "@jupyter-widgets/base",
            "_model_module_version": "1.2.0",
            "_model_name": "LayoutModel",
            "_view_count": null,
            "_view_module": "@jupyter-widgets/base",
            "_view_module_version": "1.2.0",
            "_view_name": "LayoutView",
            "align_content": null,
            "align_items": null,
            "align_self": null,
            "border": null,
            "bottom": null,
            "display": null,
            "flex": null,
            "flex_flow": null,
            "grid_area": null,
            "grid_auto_columns": null,
            "grid_auto_flow": null,
            "grid_auto_rows": null,
            "grid_column": null,
            "grid_gap": null,
            "grid_row": null,
            "grid_template_areas": null,
            "grid_template_columns": null,
            "grid_template_rows": null,
            "height": null,
            "justify_content": null,
            "justify_items": null,
            "left": null,
            "margin": null,
            "max_height": null,
            "max_width": null,
            "min_height": null,
            "min_width": null,
            "object_fit": null,
            "object_position": null,
            "order": null,
            "overflow": null,
            "overflow_x": null,
            "overflow_y": null,
            "padding": null,
            "right": null,
            "top": null,
            "visibility": null,
            "width": null
          }
        },
        "7669fab8bba148f6974cd712f3c931e3": {
          "model_module": "@jupyter-widgets/base",
          "model_name": "LayoutModel",
          "model_module_version": "1.2.0",
          "state": {
            "_model_module": "@jupyter-widgets/base",
            "_model_module_version": "1.2.0",
            "_model_name": "LayoutModel",
            "_view_count": null,
            "_view_module": "@jupyter-widgets/base",
            "_view_module_version": "1.2.0",
            "_view_name": "LayoutView",
            "align_content": null,
            "align_items": null,
            "align_self": null,
            "border": null,
            "bottom": null,
            "display": null,
            "flex": null,
            "flex_flow": null,
            "grid_area": null,
            "grid_auto_columns": null,
            "grid_auto_flow": null,
            "grid_auto_rows": null,
            "grid_column": null,
            "grid_gap": null,
            "grid_row": null,
            "grid_template_areas": null,
            "grid_template_columns": null,
            "grid_template_rows": null,
            "height": null,
            "justify_content": null,
            "justify_items": null,
            "left": null,
            "margin": null,
            "max_height": null,
            "max_width": null,
            "min_height": null,
            "min_width": null,
            "object_fit": null,
            "object_position": null,
            "order": null,
            "overflow": null,
            "overflow_x": null,
            "overflow_y": null,
            "padding": null,
            "right": null,
            "top": null,
            "visibility": null,
            "width": null
          }
        },
        "777884bfaca9483dbda5dbbe399062d6": {
          "model_module": "@jupyter-widgets/controls",
          "model_name": "DescriptionStyleModel",
          "model_module_version": "1.5.0",
          "state": {
            "_model_module": "@jupyter-widgets/controls",
            "_model_module_version": "1.5.0",
            "_model_name": "DescriptionStyleModel",
            "_view_count": null,
            "_view_module": "@jupyter-widgets/base",
            "_view_module_version": "1.2.0",
            "_view_name": "StyleView",
            "description_width": ""
          }
        },
        "29a80eb1d9b54f9b8ce450e86212277a": {
          "model_module": "@jupyter-widgets/base",
          "model_name": "LayoutModel",
          "model_module_version": "1.2.0",
          "state": {
            "_model_module": "@jupyter-widgets/base",
            "_model_module_version": "1.2.0",
            "_model_name": "LayoutModel",
            "_view_count": null,
            "_view_module": "@jupyter-widgets/base",
            "_view_module_version": "1.2.0",
            "_view_name": "LayoutView",
            "align_content": null,
            "align_items": null,
            "align_self": null,
            "border": null,
            "bottom": null,
            "display": null,
            "flex": null,
            "flex_flow": null,
            "grid_area": null,
            "grid_auto_columns": null,
            "grid_auto_flow": null,
            "grid_auto_rows": null,
            "grid_column": null,
            "grid_gap": null,
            "grid_row": null,
            "grid_template_areas": null,
            "grid_template_columns": null,
            "grid_template_rows": null,
            "height": null,
            "justify_content": null,
            "justify_items": null,
            "left": null,
            "margin": null,
            "max_height": null,
            "max_width": null,
            "min_height": null,
            "min_width": null,
            "object_fit": null,
            "object_position": null,
            "order": null,
            "overflow": null,
            "overflow_x": null,
            "overflow_y": null,
            "padding": null,
            "right": null,
            "top": null,
            "visibility": null,
            "width": null
          }
        },
        "5a7c6abd2dc046c085aa2f0e9ea51e1a": {
          "model_module": "@jupyter-widgets/controls",
          "model_name": "ProgressStyleModel",
          "model_module_version": "1.5.0",
          "state": {
            "_model_module": "@jupyter-widgets/controls",
            "_model_module_version": "1.5.0",
            "_model_name": "ProgressStyleModel",
            "_view_count": null,
            "_view_module": "@jupyter-widgets/base",
            "_view_module_version": "1.2.0",
            "_view_name": "StyleView",
            "bar_color": null,
            "description_width": ""
          }
        },
        "d5660f8c5a8546f4b4893dd26c804231": {
          "model_module": "@jupyter-widgets/base",
          "model_name": "LayoutModel",
          "model_module_version": "1.2.0",
          "state": {
            "_model_module": "@jupyter-widgets/base",
            "_model_module_version": "1.2.0",
            "_model_name": "LayoutModel",
            "_view_count": null,
            "_view_module": "@jupyter-widgets/base",
            "_view_module_version": "1.2.0",
            "_view_name": "LayoutView",
            "align_content": null,
            "align_items": null,
            "align_self": null,
            "border": null,
            "bottom": null,
            "display": null,
            "flex": null,
            "flex_flow": null,
            "grid_area": null,
            "grid_auto_columns": null,
            "grid_auto_flow": null,
            "grid_auto_rows": null,
            "grid_column": null,
            "grid_gap": null,
            "grid_row": null,
            "grid_template_areas": null,
            "grid_template_columns": null,
            "grid_template_rows": null,
            "height": null,
            "justify_content": null,
            "justify_items": null,
            "left": null,
            "margin": null,
            "max_height": null,
            "max_width": null,
            "min_height": null,
            "min_width": null,
            "object_fit": null,
            "object_position": null,
            "order": null,
            "overflow": null,
            "overflow_x": null,
            "overflow_y": null,
            "padding": null,
            "right": null,
            "top": null,
            "visibility": null,
            "width": null
          }
        },
        "aff1da8ea4e04733a05ccfe82ed0b407": {
          "model_module": "@jupyter-widgets/controls",
          "model_name": "DescriptionStyleModel",
          "model_module_version": "1.5.0",
          "state": {
            "_model_module": "@jupyter-widgets/controls",
            "_model_module_version": "1.5.0",
            "_model_name": "DescriptionStyleModel",
            "_view_count": null,
            "_view_module": "@jupyter-widgets/base",
            "_view_module_version": "1.2.0",
            "_view_name": "StyleView",
            "description_width": ""
          }
        },
        "08515e0bec764194b48758f405a4725a": {
          "model_module": "@jupyter-widgets/controls",
          "model_name": "HBoxModel",
          "model_module_version": "1.5.0",
          "state": {
            "_dom_classes": [],
            "_model_module": "@jupyter-widgets/controls",
            "_model_module_version": "1.5.0",
            "_model_name": "HBoxModel",
            "_view_count": null,
            "_view_module": "@jupyter-widgets/controls",
            "_view_module_version": "1.5.0",
            "_view_name": "HBoxView",
            "box_style": "",
            "children": [
              "IPY_MODEL_d02cf892ad8641fc9f25bc6e17bda6c8",
              "IPY_MODEL_73fae6552645473c8ee863e6d8524d4f",
              "IPY_MODEL_4ea95f53b8c240ba9ef47f49ca3b5a1e"
            ],
            "layout": "IPY_MODEL_d2b96d95e00f42869e698d8ccc1a93b3"
          }
        },
        "d02cf892ad8641fc9f25bc6e17bda6c8": {
          "model_module": "@jupyter-widgets/controls",
          "model_name": "HTMLModel",
          "model_module_version": "1.5.0",
          "state": {
            "_dom_classes": [],
            "_model_module": "@jupyter-widgets/controls",
            "_model_module_version": "1.5.0",
            "_model_name": "HTMLModel",
            "_view_count": null,
            "_view_module": "@jupyter-widgets/controls",
            "_view_module_version": "1.5.0",
            "_view_name": "HTMLView",
            "description": "",
            "description_tooltip": null,
            "layout": "IPY_MODEL_bb69ee71de354c259089a9a3e4617d29",
            "placeholder": "​",
            "style": "IPY_MODEL_ee242d2edf9b46759d4c1bcf74d13c41",
            "value": "100%"
          }
        },
        "73fae6552645473c8ee863e6d8524d4f": {
          "model_module": "@jupyter-widgets/controls",
          "model_name": "FloatProgressModel",
          "model_module_version": "1.5.0",
          "state": {
            "_dom_classes": [],
            "_model_module": "@jupyter-widgets/controls",
            "_model_module_version": "1.5.0",
            "_model_name": "FloatProgressModel",
            "_view_count": null,
            "_view_module": "@jupyter-widgets/controls",
            "_view_module_version": "1.5.0",
            "_view_name": "ProgressView",
            "bar_style": "success",
            "description": "",
            "description_tooltip": null,
            "layout": "IPY_MODEL_e6cedf689a5847c78ac5557cf437a65c",
            "max": 100,
            "min": 0,
            "orientation": "horizontal",
            "style": "IPY_MODEL_12b63b4f957f43299030a6cc6a3eea4d",
            "value": 100
          }
        },
        "4ea95f53b8c240ba9ef47f49ca3b5a1e": {
          "model_module": "@jupyter-widgets/controls",
          "model_name": "HTMLModel",
          "model_module_version": "1.5.0",
          "state": {
            "_dom_classes": [],
            "_model_module": "@jupyter-widgets/controls",
            "_model_module_version": "1.5.0",
            "_model_name": "HTMLModel",
            "_view_count": null,
            "_view_module": "@jupyter-widgets/controls",
            "_view_module_version": "1.5.0",
            "_view_name": "HTMLView",
            "description": "",
            "description_tooltip": null,
            "layout": "IPY_MODEL_a33254acdd0640cb9abbe080ab107209",
            "placeholder": "​",
            "style": "IPY_MODEL_8c8df99272aa427fbd8b37a19865b46c",
            "value": " 100/100 [00:52&lt;00:00,  2.00it/s]"
          }
        },
        "d2b96d95e00f42869e698d8ccc1a93b3": {
          "model_module": "@jupyter-widgets/base",
          "model_name": "LayoutModel",
          "model_module_version": "1.2.0",
          "state": {
            "_model_module": "@jupyter-widgets/base",
            "_model_module_version": "1.2.0",
            "_model_name": "LayoutModel",
            "_view_count": null,
            "_view_module": "@jupyter-widgets/base",
            "_view_module_version": "1.2.0",
            "_view_name": "LayoutView",
            "align_content": null,
            "align_items": null,
            "align_self": null,
            "border": null,
            "bottom": null,
            "display": null,
            "flex": null,
            "flex_flow": null,
            "grid_area": null,
            "grid_auto_columns": null,
            "grid_auto_flow": null,
            "grid_auto_rows": null,
            "grid_column": null,
            "grid_gap": null,
            "grid_row": null,
            "grid_template_areas": null,
            "grid_template_columns": null,
            "grid_template_rows": null,
            "height": null,
            "justify_content": null,
            "justify_items": null,
            "left": null,
            "margin": null,
            "max_height": null,
            "max_width": null,
            "min_height": null,
            "min_width": null,
            "object_fit": null,
            "object_position": null,
            "order": null,
            "overflow": null,
            "overflow_x": null,
            "overflow_y": null,
            "padding": null,
            "right": null,
            "top": null,
            "visibility": null,
            "width": null
          }
        },
        "bb69ee71de354c259089a9a3e4617d29": {
          "model_module": "@jupyter-widgets/base",
          "model_name": "LayoutModel",
          "model_module_version": "1.2.0",
          "state": {
            "_model_module": "@jupyter-widgets/base",
            "_model_module_version": "1.2.0",
            "_model_name": "LayoutModel",
            "_view_count": null,
            "_view_module": "@jupyter-widgets/base",
            "_view_module_version": "1.2.0",
            "_view_name": "LayoutView",
            "align_content": null,
            "align_items": null,
            "align_self": null,
            "border": null,
            "bottom": null,
            "display": null,
            "flex": null,
            "flex_flow": null,
            "grid_area": null,
            "grid_auto_columns": null,
            "grid_auto_flow": null,
            "grid_auto_rows": null,
            "grid_column": null,
            "grid_gap": null,
            "grid_row": null,
            "grid_template_areas": null,
            "grid_template_columns": null,
            "grid_template_rows": null,
            "height": null,
            "justify_content": null,
            "justify_items": null,
            "left": null,
            "margin": null,
            "max_height": null,
            "max_width": null,
            "min_height": null,
            "min_width": null,
            "object_fit": null,
            "object_position": null,
            "order": null,
            "overflow": null,
            "overflow_x": null,
            "overflow_y": null,
            "padding": null,
            "right": null,
            "top": null,
            "visibility": null,
            "width": null
          }
        },
        "ee242d2edf9b46759d4c1bcf74d13c41": {
          "model_module": "@jupyter-widgets/controls",
          "model_name": "DescriptionStyleModel",
          "model_module_version": "1.5.0",
          "state": {
            "_model_module": "@jupyter-widgets/controls",
            "_model_module_version": "1.5.0",
            "_model_name": "DescriptionStyleModel",
            "_view_count": null,
            "_view_module": "@jupyter-widgets/base",
            "_view_module_version": "1.2.0",
            "_view_name": "StyleView",
            "description_width": ""
          }
        },
        "e6cedf689a5847c78ac5557cf437a65c": {
          "model_module": "@jupyter-widgets/base",
          "model_name": "LayoutModel",
          "model_module_version": "1.2.0",
          "state": {
            "_model_module": "@jupyter-widgets/base",
            "_model_module_version": "1.2.0",
            "_model_name": "LayoutModel",
            "_view_count": null,
            "_view_module": "@jupyter-widgets/base",
            "_view_module_version": "1.2.0",
            "_view_name": "LayoutView",
            "align_content": null,
            "align_items": null,
            "align_self": null,
            "border": null,
            "bottom": null,
            "display": null,
            "flex": null,
            "flex_flow": null,
            "grid_area": null,
            "grid_auto_columns": null,
            "grid_auto_flow": null,
            "grid_auto_rows": null,
            "grid_column": null,
            "grid_gap": null,
            "grid_row": null,
            "grid_template_areas": null,
            "grid_template_columns": null,
            "grid_template_rows": null,
            "height": null,
            "justify_content": null,
            "justify_items": null,
            "left": null,
            "margin": null,
            "max_height": null,
            "max_width": null,
            "min_height": null,
            "min_width": null,
            "object_fit": null,
            "object_position": null,
            "order": null,
            "overflow": null,
            "overflow_x": null,
            "overflow_y": null,
            "padding": null,
            "right": null,
            "top": null,
            "visibility": null,
            "width": null
          }
        },
        "12b63b4f957f43299030a6cc6a3eea4d": {
          "model_module": "@jupyter-widgets/controls",
          "model_name": "ProgressStyleModel",
          "model_module_version": "1.5.0",
          "state": {
            "_model_module": "@jupyter-widgets/controls",
            "_model_module_version": "1.5.0",
            "_model_name": "ProgressStyleModel",
            "_view_count": null,
            "_view_module": "@jupyter-widgets/base",
            "_view_module_version": "1.2.0",
            "_view_name": "StyleView",
            "bar_color": null,
            "description_width": ""
          }
        },
        "a33254acdd0640cb9abbe080ab107209": {
          "model_module": "@jupyter-widgets/base",
          "model_name": "LayoutModel",
          "model_module_version": "1.2.0",
          "state": {
            "_model_module": "@jupyter-widgets/base",
            "_model_module_version": "1.2.0",
            "_model_name": "LayoutModel",
            "_view_count": null,
            "_view_module": "@jupyter-widgets/base",
            "_view_module_version": "1.2.0",
            "_view_name": "LayoutView",
            "align_content": null,
            "align_items": null,
            "align_self": null,
            "border": null,
            "bottom": null,
            "display": null,
            "flex": null,
            "flex_flow": null,
            "grid_area": null,
            "grid_auto_columns": null,
            "grid_auto_flow": null,
            "grid_auto_rows": null,
            "grid_column": null,
            "grid_gap": null,
            "grid_row": null,
            "grid_template_areas": null,
            "grid_template_columns": null,
            "grid_template_rows": null,
            "height": null,
            "justify_content": null,
            "justify_items": null,
            "left": null,
            "margin": null,
            "max_height": null,
            "max_width": null,
            "min_height": null,
            "min_width": null,
            "object_fit": null,
            "object_position": null,
            "order": null,
            "overflow": null,
            "overflow_x": null,
            "overflow_y": null,
            "padding": null,
            "right": null,
            "top": null,
            "visibility": null,
            "width": null
          }
        },
        "8c8df99272aa427fbd8b37a19865b46c": {
          "model_module": "@jupyter-widgets/controls",
          "model_name": "DescriptionStyleModel",
          "model_module_version": "1.5.0",
          "state": {
            "_model_module": "@jupyter-widgets/controls",
            "_model_module_version": "1.5.0",
            "_model_name": "DescriptionStyleModel",
            "_view_count": null,
            "_view_module": "@jupyter-widgets/base",
            "_view_module_version": "1.2.0",
            "_view_name": "StyleView",
            "description_width": ""
          }
        }
      }
    }
  },
  "cells": [
    {
      "cell_type": "markdown",
      "source": [
        "#Imports"
      ],
      "metadata": {
        "id": "IqI8WcIX5Kxc"
      }
    },
    {
      "cell_type": "markdown",
      "source": [
        "uncertainty checkpoints,\n",
        "- split data to see equal distrubuion (insert the graph)\n",
        "- do uncertaity for each type (length based, class based)\n",
        "- give a general probability distrution graph for explanation purpose.\n",
        "- take 5 graph for each class  and compare their most confident and least confident based on variance outcomes (total 8 images)\n",
        "- for each type take best 5 predictions and worst 5 predictions based on mean"
      ],
      "metadata": {
        "id": "BMZnaJZmDXAZ"
      }
    },
    {
      "cell_type": "code",
      "source": [
        "import torch\n",
        "from torch import nn\n",
        "from torch.utils.data import DataLoader\n",
        "from torchvision import datasets, transforms\n",
        "import os\n",
        "import zipfile\n",
        "from pathlib import Path\n",
        "import random\n",
        "import torchvision\n",
        "from tqdm.auto import tqdm\n",
        "from PIL import Image\n",
        "import matplotlib.pyplot as plt"
      ],
      "metadata": {
        "id": "6cQ2jmS9Kq8n"
      },
      "execution_count": null,
      "outputs": []
    },
    {
      "cell_type": "code",
      "source": [
        "device = 'cuda' if torch.cuda.is_available() else 'cpu'\n",
        "device\n",
        "\n",
        "#https://github.com/eniac00/binary-dataset/raw/main/binary_datasets_512_15_2.zip\n"
      ],
      "metadata": {
        "colab": {
          "base_uri": "https://localhost:8080/"
        },
        "id": "xNoiQ-NC5RI1",
        "outputId": "d540435a-4c8a-459f-aa00-2b084960da8c"
      },
      "execution_count": null,
      "outputs": [
        {
          "output_type": "execute_result",
          "data": {
            "text/plain": [
              "'cuda'"
            ],
            "application/vnd.google.colaboratory.intrinsic+json": {
              "type": "string"
            }
          },
          "metadata": {},
          "execution_count": 29
        }
      ]
    },
    {
      "cell_type": "markdown",
      "source": [
        "#Unzipping data"
      ],
      "metadata": {
        "id": "I16OJZms5TKF"
      }
    },
    {
      "cell_type": "code",
      "source": [
        "from google.colab import drive\n",
        "drive.mount('/content/drive/')"
      ],
      "metadata": {
        "colab": {
          "base_uri": "https://localhost:8080/"
        },
        "id": "K4to8_dJ5Zo1",
        "outputId": "aff302a3-537f-4f48-ef15-6a836359acbf"
      },
      "execution_count": null,
      "outputs": [
        {
          "output_type": "stream",
          "name": "stdout",
          "text": [
            "Drive already mounted at /content/drive/; to attempt to forcibly remount, call drive.mount(\"/content/drive/\", force_remount=True).\n"
          ]
        }
      ]
    },
    {
      "cell_type": "code",
      "source": [
        "import requests\n",
        "import zipfile\n",
        "from pathlib import Path\n",
        "\n",
        "\n",
        "data_path = Path(\"data/\")\n",
        "image_path = data_path /\"proteins\"\n",
        "\n",
        "if image_path.is_dir():\n",
        "  print(f\"{image_path} directory already exists \")\n",
        "\n",
        "else:\n",
        "  print(f\"{image_path} does not exist... creating one\")\n",
        "  image_path.mkdir(parents=True, exist_ok=True)\n",
        "\n",
        "\n",
        "with zipfile.ZipFile(data_path / \"/content/drive/MyDrive/Colab Notebooks/multipvp/binary_data.zip\", \"r\") as zip_ref:\n",
        "  print('unzipping proteins dataset')\n",
        "  zip_ref.extractall(image_path)"
      ],
      "metadata": {
        "colab": {
          "base_uri": "https://localhost:8080/"
        },
        "id": "Y2yLismn5dbW",
        "outputId": "ee3ed9af-8ab4-4193-966f-e858d77c5b8b"
      },
      "execution_count": null,
      "outputs": [
        {
          "output_type": "stream",
          "name": "stdout",
          "text": [
            "data/proteins directory already exists \n",
            "unzipping proteins dataset\n"
          ]
        }
      ]
    },
    {
      "cell_type": "markdown",
      "source": [
        "#Data Gathering\n",
        "- Getting data from test samples for PVP and non-PVP which are in .png format"
      ],
      "metadata": {
        "id": "Szb3I9-Q59vd"
      }
    },
    {
      "cell_type": "code",
      "source": [
        "\n",
        "pvp_path = Path('/content/data/proteins/test/PVP')\n",
        "nonpvp_path = Path('/content/data/proteins/test/non-PVP')\n",
        "pvp_list = []\n",
        "nonpvp_list = []\n",
        "for root, dirs, files in os.walk(pvp_path):\n",
        "    for file in files:\n",
        "        # Check for .fasta or .fa extension\n",
        "        if file.endswith('.png'):\n",
        "            full_path = os.path.join(root, file)\n",
        "            pvp_list.append(full_path)\n",
        "\n",
        "\n",
        "for root, dirs, files in os.walk(nonpvp_path):\n",
        "    for file in files:\n",
        "        # Check for .fasta or .fa extension\n",
        "        if file.endswith('.png'):\n",
        "            full_path = os.path.join(root, file)\n",
        "            nonpvp_list.append(full_path)\n",
        "\n",
        "\n",
        "print('Len of pvp: ', len(pvp_list))\n",
        "print('Len of nonpvp: ', len(nonpvp_list))"
      ],
      "metadata": {
        "colab": {
          "base_uri": "https://localhost:8080/"
        },
        "id": "hun-bWet5lD-",
        "outputId": "4025cef1-60a1-4baa-8db5-4b0787d08f3c"
      },
      "execution_count": null,
      "outputs": [
        {
          "output_type": "stream",
          "name": "stdout",
          "text": [
            "Len of pvp:  10564\n",
            "Len of nonpvp:  14065\n"
          ]
        }
      ]
    },
    {
      "cell_type": "markdown",
      "source": [
        "# Getting data for long and short sequences\n",
        "- PVP > 350 is long\n",
        "- PVP <= 350 is short\n",
        "- non-PVP > 275 is long\n",
        "- non-PVP <= is short"
      ],
      "metadata": {
        "id": "TmLsQr0ukGXI"
      }
    },
    {
      "cell_type": "code",
      "source": [
        "random.seed(42)\n",
        "random.shuffle(pvp_list)\n",
        "random.shuffle(nonpvp_list)\n",
        "\n",
        "pvp_less_350 = []\n",
        "pvp_greater_350 = []\n",
        "\n",
        "for each in pvp_list:\n",
        "\n",
        "  if int(str(each).split('_')[-1].split('.')[0])<=350:\n",
        "    if len(pvp_less_350)!=100:\n",
        "      pvp_less_350.append(each)\n",
        "  else:\n",
        "    if len(pvp_greater_350)!=100:\n",
        "      pvp_greater_350.append(each)\n",
        "\n",
        "nonpvp_less_275 = []\n",
        "nonpvp_greater_275 = []\n",
        "\n",
        "for each in nonpvp_list:\n",
        "\n",
        "  if int(str(each).split('_')[-1].split('.')[0])<=275:\n",
        "    if len(nonpvp_less_275)!=100:\n",
        "      nonpvp_less_275.append(each)\n",
        "  else:\n",
        "    if len(nonpvp_greater_275)!=100:\n",
        "      nonpvp_greater_275.append(each)\n",
        "\n",
        "print('length of pvp_less_350: ', len(pvp_less_350))\n",
        "print('length of pvp_greater_350: ', len(pvp_greater_350))\n",
        "print('length of nonpvp_less_275: ', len(nonpvp_less_275))\n",
        "print('length of nonpvp_greater_275: ', len(nonpvp_greater_275))\n",
        "\n",
        "# pvp_less_350[0]"
      ],
      "metadata": {
        "colab": {
          "base_uri": "https://localhost:8080/",
          "height": 105
        },
        "id": "Zfn97B_t6DfJ",
        "outputId": "e2d7f69f-7940-4cea-817b-d6183f6ffec4"
      },
      "execution_count": null,
      "outputs": [
        {
          "output_type": "stream",
          "name": "stdout",
          "text": [
            "length of pvp_less_350:  100\n",
            "length of pvp_greater_350:  100\n",
            "length of nonpvp_less_275:  100\n",
            "length of nonpvp_greater_275:  100\n"
          ]
        },
        {
          "output_type": "execute_result",
          "data": {
            "text/plain": [
              "'/content/data/proteins/test/PVP/YP_009789331.1_len_190.png'"
            ],
            "application/vnd.google.colaboratory.intrinsic+json": {
              "type": "string"
            }
          },
          "metadata": {},
          "execution_count": 33
        }
      ]
    },
    {
      "cell_type": "markdown",
      "source": [
        "#Making dataloader"
      ],
      "metadata": {
        "id": "RFRX0hlZEnnT"
      }
    },
    {
      "cell_type": "code",
      "source": [
        "# from torchvision import datasets\n",
        "\n",
        "# normalize = transforms.Normalize(mean=[0.485, 0.456, 0.406], std=[0.229, 0.224, 0.225])\n",
        "# manual_tranforms = transforms.Compose([transforms.Resize((224, 224)), transforms.ToTensor(), normalize])\n",
        "# pvp_less_data = datasets.ImageFolder(root='/content/uncertainty',\n",
        "#                                   transform = manual_tranforms,\n",
        "#                                   target_transform=None)"
      ],
      "metadata": {
        "id": "wNiMYzKLEprk"
      },
      "execution_count": null,
      "outputs": []
    },
    {
      "cell_type": "markdown",
      "source": [
        "#Model loading\n",
        "- The model GoogleNet was trained on our training data and saved, which is then loaded below and used for for uncertainty analysis."
      ],
      "metadata": {
        "id": "xH3XH3Wx7b-d"
      }
    },
    {
      "cell_type": "code",
      "source": [
        "# # weights = torchvision.models.EfficientNet_V2_S_Weights.DEFAULT\n",
        "# # model = torchvision.models.efficientnet_v2_s(weights=weights).to(device)\n",
        "# # model\n",
        "# weights = torchvision.models.GoogLeNet_Weights.DEFAULT\n",
        "# model = torchvision.models.googlenet(weights=weights).to(device)\n",
        "# from torch import nn\n",
        "\n",
        "# model.fc = nn.Linear(in_features=1024, out_features=2, bias=True).to(device)\n",
        "# model.dropout = nn.Dropout(0.2)\n",
        "# model"
      ],
      "metadata": {
        "id": "LB-iLimQ7iKk"
      },
      "execution_count": null,
      "outputs": []
    },
    {
      "cell_type": "code",
      "source": [
        "from pathlib import Path\n",
        "\n",
        "# #LOad model and get the saved dict()\n",
        "MODEL_SAVE_PATH = Path('/content/drive/MyDrive/Colab Notebooks/multipvp/googlenet_binary_89.pth')\n",
        "model.load_state_dict(torch.load(f=MODEL_SAVE_PATH))\n",
        "model.to(device)"
      ],
      "metadata": {
        "id": "DswWNgMA7iTY"
      },
      "execution_count": null,
      "outputs": []
    },
    {
      "cell_type": "markdown",
      "source": [
        "#Transform - image transformations applied before classification"
      ],
      "metadata": {
        "id": "B3qUHZxdTrsv"
      }
    },
    {
      "cell_type": "code",
      "source": [
        "normalize = transforms.Normalize(mean=[0.485, 0.456, 0.406], std=[0.229, 0.224, 0.225])\n",
        "manual_tranforms = transforms.Compose([transforms.Resize((224, 224)), transforms.ToTensor(),normalize])"
      ],
      "metadata": {
        "id": "nFzs3QUKTtmo"
      },
      "execution_count": null,
      "outputs": []
    },
    {
      "cell_type": "code",
      "source": [
        "pvp_less_350[6]\n",
        "# nonpvp_less_275[0]"
      ],
      "metadata": {
        "colab": {
          "base_uri": "https://localhost:8080/",
          "height": 35
        },
        "id": "fmk_k4YLTNY3",
        "outputId": "fba81636-9668-4263-f466-c61db9fdc739"
      },
      "execution_count": null,
      "outputs": [
        {
          "output_type": "execute_result",
          "data": {
            "text/plain": [
              "'/content/data/proteins/test/PVP/YP_009007685.1_len_278.png'"
            ],
            "application/vnd.google.colaboratory.intrinsic+json": {
              "type": "string"
            }
          },
          "metadata": {},
          "execution_count": 40
        }
      ]
    },
    {
      "cell_type": "markdown",
      "source": [
        "# Testing is model is loaded correctly"
      ],
      "metadata": {
        "id": "a_CIB_7dnMqf"
      }
    },
    {
      "cell_type": "code",
      "source": [
        "\n",
        "\n",
        "test_image = '/content/data/proteins/test/PVP/YP_009615909.1_len_247.png'\n",
        "image = Image.open(test_image)\n",
        "transformed_image = manual_tranforms(image)\n",
        "transformed_image = transformed_image.unsqueeze(0)\n",
        "\n",
        "\n",
        "model.eval()\n",
        "with torch.no_grad():\n",
        "    output = model(transformed_image.to(device))\n",
        "predicted_probabilities = torch.softmax(output, dim=1)\n",
        "\n",
        "predicted_probabilities"
      ],
      "metadata": {
        "id": "5tQgl7rwTDQO",
        "colab": {
          "base_uri": "https://localhost:8080/"
        },
        "outputId": "54931659-e331-4ce3-ed79-893aa230c10b"
      },
      "execution_count": null,
      "outputs": [
        {
          "output_type": "execute_result",
          "data": {
            "text/plain": [
              "tensor([[0.9908, 0.0092]], device='cuda:0')"
            ]
          },
          "metadata": {},
          "execution_count": 41
        }
      ]
    },
    {
      "cell_type": "markdown",
      "source": [
        "#Helper functions\n",
        "- Calculate_statistics_and_visualize function calculates mean and standard deviation from predictions\n",
        "- Class analysis function calculates the list of means and standard deviations of predicitons for each images (each image was predicted 50 times)"
      ],
      "metadata": {
        "id": "5RSAbGKG6EL9"
      }
    },
    {
      "cell_type": "code",
      "source": [
        "import numpy as np\n",
        "import matplotlib.pyplot as plt\n",
        "\n",
        "def calculate_statistics_and_visualize(data):\n",
        "\n",
        "    # Convert the list to a NumPy array for efficient computation\n",
        "    data_array = np.array(data)\n",
        "\n",
        "    # Calculate mean and standard deviation\n",
        "    mean = np.mean(data_array)\n",
        "    std_dev = np.std(data_array)\n",
        "    # print('std_dev is ',std_dev)\n",
        "    return mean, std_dev\n"
      ],
      "metadata": {
        "id": "SgI_EaOd6EPV"
      },
      "execution_count": null,
      "outputs": []
    },
    {
      "cell_type": "code",
      "source": [
        "\n",
        "\n",
        "def class_analysis(target_list,idx):\n",
        "\n",
        "  mean_lis = []\n",
        "  std_lis = []\n",
        "  # entropy_lis = []\n",
        "  for each in tqdm(range(len(target_list))):\n",
        "\n",
        "\n",
        "    image_path = target_list[each]\n",
        "    image = Image.open(image_path)\n",
        "\n",
        "    transformed_image = manual_tranforms(image)\n",
        "    transformed_image = transformed_image.unsqueeze(0)\n",
        "    predictions = []\n",
        "\n",
        "    model.train()\n",
        "    with torch.inference_mode():\n",
        "      for a in range(50):\n",
        "        logits = model(transformed_image.to(device))\n",
        "        preds = torch.softmax(logits, dim=1)\n",
        "        # print('here1 is - ',preds)\n",
        "        b = preds.squeeze(0)\n",
        "        # print('here2 is - ',a)\n",
        "        predictions.append(b[idx].cpu())\n",
        "    # entropy = calculate_entropy(predictions)\n",
        "      mean, std_dev = calculate_statistics_and_visualize(predictions)\n",
        "      mean_lis.append(mean)\n",
        "      std_lis.append(std_dev)\n",
        "    # entropy_lis.append(entropy)\n",
        "  return mean_lis, std_lis\n",
        "\n",
        "\n",
        "\n"
      ],
      "metadata": {
        "id": "1lBf4BzE6ETv"
      },
      "execution_count": null,
      "outputs": []
    },
    {
      "cell_type": "code",
      "source": [
        "# (0.0072731273248791695)**0.5"
      ],
      "metadata": {
        "colab": {
          "base_uri": "https://localhost:8080/"
        },
        "id": "EnqH3aiAtVQl",
        "outputId": "6336ee91-0cd8-41e8-c2c4-5ea9b7d44910"
      },
      "execution_count": null,
      "outputs": [
        {
          "output_type": "execute_result",
          "data": {
            "text/plain": [
              "0.08528263202363755"
            ]
          },
          "metadata": {},
          "execution_count": 44
        }
      ]
    },
    {
      "cell_type": "code",
      "source": [
        "def avg_mean_std(mean,std,lis_name):\n",
        "\n",
        "  m = np.array(mean)\n",
        "  std = np.array(std)\n",
        "  var = (std.mean())**0.5\n",
        "  # print('std is ',std)\n",
        "  print(f'Average mean of {lis_name} is {m.mean()}')\n",
        "  print(f'Average std of {lis_name} is {std.mean()}')\n",
        "  print(f'Variance of {lis_name} is {var}')\n"
      ],
      "metadata": {
        "id": "TZOvOcab86gf"
      },
      "execution_count": null,
      "outputs": []
    },
    {
      "cell_type": "code",
      "source": [
        "items = ['PVP','non-PVP']"
      ],
      "metadata": {
        "id": "9rnGpwgIge_h"
      },
      "execution_count": null,
      "outputs": []
    },
    {
      "cell_type": "markdown",
      "source": [
        "#Single image prediction"
      ],
      "metadata": {
        "id": "eDAgD3f5eRAI"
      }
    },
    {
      "cell_type": "code",
      "source": [
        "import math\n",
        "import numpy as np\n",
        "import torch\n",
        "from PIL import Image\n",
        "import matplotlib.pyplot as plt\n",
        "\n",
        "\n",
        "def calculate_entropy(prob):\n",
        "    if prob != 1.0:\n",
        "        ent = (prob * math.log2(1 / prob)) + ((1 - prob) * math.log2(1 / (1 - prob)))\n",
        "        return ent\n",
        "\n",
        "def single_image_analyze(image_path, cat, save_path=None):\n",
        "    image = Image.open(image_path)\n",
        "    transformed_image = manual_tranforms(image)\n",
        "    transformed_image = transformed_image.unsqueeze(0)\n",
        "\n",
        "    predictions = []\n",
        "    model.train()\n",
        "\n",
        "    with torch.inference_mode():\n",
        "        for a in range(100):\n",
        "            logits = model(transformed_image.to(device))\n",
        "            preds = torch.softmax(logits, dim=1)\n",
        "            b = preds.squeeze(0)\n",
        "            predictions.append(b[cat].cpu())\n",
        "\n",
        "    # Convert the list to a NumPy array for efficient computation\n",
        "    data_array = np.array(predictions)\n",
        "\n",
        "    # Calculate mean and standard deviation\n",
        "    mean = np.mean(data_array)\n",
        "    entropy = calculate_entropy(mean)\n",
        "    std_dev = np.std(data_array)\n",
        "\n",
        "    # Plotting the histogram\n",
        "    plt.figure(figsize=(8, 6))\n",
        "    plt.hist(data_array, bins=50, color='blue', alpha=0.7, edgecolor='black')\n",
        "    plt.title(f'{items[cat]} (short)')\n",
        "    plt.xlabel('Softmax score')\n",
        "    plt.ylabel('Sample Predictions')\n",
        "    plt.axvline(mean, color='red', linestyle='dashed', linewidth=1, label=f'Mean: {mean:.2f}')\n",
        "    plt.axvline(mean + std_dev, color='green', linestyle='dashed', linewidth=1, label=f'Mean + 1 SD: {mean + std_dev:.2f}')\n",
        "    plt.axvline(mean - std_dev, color='green', linestyle='dashed', linewidth=1, label=f'Mean - 1 SD: {mean - std_dev:.2f}')\n",
        "    plt.legend()\n",
        "\n",
        "    if save_path:\n",
        "        plt.savefig(save_path)\n",
        "    else:\n",
        "        plt.show()\n",
        "\n",
        "# Example usage:\n",
        "# single_image_analyze('path/to/your/image.jpg', cat=0, save_path='path/to/save/plot.png')\n"
      ],
      "metadata": {
        "id": "fPzHyRnpJ0ms"
      },
      "execution_count": null,
      "outputs": []
    },
    {
      "cell_type": "markdown",
      "source": [
        "#view"
      ],
      "metadata": {
        "id": "wzLy20lWf0wK"
      }
    },
    {
      "cell_type": "markdown",
      "source": [
        "#PVP 5 sampeles"
      ],
      "metadata": {
        "id": "GOodMl5L_kWT"
      }
    },
    {
      "cell_type": "code",
      "source": [
        "\n",
        "single_image_analyze(pvp_less_350[0],0,'/content/drive/MyDrive/Colab Notebooks/multipvp/pvp_images/img1.png')  #eval mode\n"
      ],
      "metadata": {
        "colab": {
          "base_uri": "https://localhost:8080/",
          "height": 564
        },
        "id": "cYSrFzFi3i-B",
        "outputId": "21bf14a9-5701-4658-9b39-0c61507e7ef3"
      },
      "execution_count": null,
      "outputs": [
        {
          "output_type": "display_data",
          "data": {
            "text/plain": [
              "<Figure size 800x600 with 1 Axes>"
            ],
            "image/png": "[encoded data removed]"
          },
          "metadata": {}
        }
      ]
    },
    {
      "cell_type": "code",
      "source": [
        "\n",
        "single_image_analyze(pvp_less_350[1],0,'/content/drive/MyDrive/Colab Notebooks/multipvp/pvp_images/img2.png')  #eval mode\n"
      ],
      "metadata": {
        "colab": {
          "base_uri": "https://localhost:8080/",
          "height": 564
        },
        "id": "TEiXgaU3_OBh",
        "outputId": "66f041f7-d7a8-454a-b59a-dcf33849f20c"
      },
      "execution_count": null,
      "outputs": [
        {
          "output_type": "display_data",
          "data": {
            "text/plain": [
              "<Figure size 800x600 with 1 Axes>"
            ],
            "image/png": "[encoded data removed]"
          },
          "metadata": {}
        }
      ]
    },
    {
      "cell_type": "code",
      "source": [
        "single_image_analyze(pvp_less_350[std2.index(min(std2))],0,'/content/drive/MyDrive/Colab Notebooks/multipvp/pvp_images/img3.png')"
      ],
      "metadata": {
        "colab": {
          "base_uri": "https://localhost:8080/",
          "height": 564
        },
        "id": "Rw2Yk4JVf9gB",
        "outputId": "f444b655-2aee-4149-b4e6-e0676852cadc"
      },
      "execution_count": null,
      "outputs": [
        {
          "output_type": "display_data",
          "data": {
            "text/plain": [
              "<Figure size 800x600 with 1 Axes>"
            ],
            "image/png": "[encoded data removed]"
          },
          "metadata": {}
        }
      ]
    },
    {
      "cell_type": "code",
      "source": [
        "single_image_analyze(pvp_less_350[mean2.index(max(mean2))],0,'/content/drive/MyDrive/Colab Notebooks/multipvp/pvp_images/img4.png')"
      ],
      "metadata": {
        "colab": {
          "base_uri": "https://localhost:8080/",
          "height": 564
        },
        "id": "FY6xdVcC_5q1",
        "outputId": "4ab7315e-431c-43a7-b6b8-98a11c327a2c"
      },
      "execution_count": null,
      "outputs": [
        {
          "output_type": "display_data",
          "data": {
            "text/plain": [
              "<Figure size 800x600 with 1 Axes>"
            ],
            "image/png": "[encoded data removed]"
          },
          "metadata": {}
        }
      ]
    },
    {
      "cell_type": "markdown",
      "source": [
        "#non-pvp 5 samples"
      ],
      "metadata": {
        "id": "289N4BlW_qBl"
      }
    },
    {
      "cell_type": "code",
      "source": [
        "single_image_analyze(nonpvp_less_275[std4.index(min(std4))],1, '/content/drive/MyDrive/Colab Notebooks/multipvp/nonpvp_images/img1.png')"
      ],
      "metadata": {
        "colab": {
          "base_uri": "https://localhost:8080/",
          "height": 564
        },
        "id": "VaeiGyrL3-Ly",
        "outputId": "590310c3-5f0c-49d8-8f1b-aa8fcfa09b45"
      },
      "execution_count": null,
      "outputs": [
        {
          "output_type": "display_data",
          "data": {
            "text/plain": [
              "<Figure size 800x600 with 1 Axes>"
            ],
            "image/png": "[encoded data removed]"
          },
          "metadata": {}
        }
      ]
    },
    {
      "cell_type": "code",
      "source": [
        "single_image_analyze(nonpvp_less_275[56],1,'/content/drive/MyDrive/Colab Notebooks/multipvp/nonpvp_images/img2.png')"
      ],
      "metadata": {
        "colab": {
          "base_uri": "https://localhost:8080/",
          "height": 564
        },
        "id": "i7n7I_8NAqlh",
        "outputId": "e587eb3e-a82a-427d-83c1-6e9b9e673e9a"
      },
      "execution_count": null,
      "outputs": [
        {
          "output_type": "display_data",
          "data": {
            "text/plain": [
              "<Figure size 800x600 with 1 Axes>"
            ],
            "image/png": "[encoded data removed]"
          },
          "metadata": {}
        }
      ]
    },
    {
      "cell_type": "code",
      "source": [
        "single_image_analyze(nonpvp_less_275[98],1,'/content/drive/MyDrive/Colab Notebooks/multipvp/nonpvp_images/img3.png')  #eval mode"
      ],
      "metadata": {
        "colab": {
          "base_uri": "https://localhost:8080/",
          "height": 564
        },
        "id": "Lz_3-gIngw6H",
        "outputId": "d0cb1e98-3ed7-4fae-b2ad-b27d8e58551c"
      },
      "execution_count": null,
      "outputs": [
        {
          "output_type": "display_data",
          "data": {
            "text/plain": [
              "<Figure size 800x600 with 1 Axes>"
            ],
            "image/png": "[encoded data removed]"
          },
          "metadata": {}
        }
      ]
    },
    {
      "cell_type": "code",
      "source": [
        "single_image_analyze(nonpvp_less_275[5],1,'/content/drive/MyDrive/Colab Notebooks/multipvp/nonpvp_images/img4.png') #eval mode"
      ],
      "metadata": {
        "colab": {
          "base_uri": "https://localhost:8080/",
          "height": 564
        },
        "id": "pcAB6Rd9795x",
        "outputId": "d3c431af-c770-4467-bab2-88cddcb063f5"
      },
      "execution_count": null,
      "outputs": [
        {
          "output_type": "display_data",
          "data": {
            "text/plain": [
              "<Figure size 800x600 with 1 Axes>"
            ],
            "image/png": "[encoded data removed]"
          },
          "metadata": {}
        }
      ]
    },
    {
      "cell_type": "markdown",
      "source": [
        "#end"
      ],
      "metadata": {
        "id": "Czl7NNQyAyxd"
      }
    },
    {
      "cell_type": "markdown",
      "source": [
        "#Results"
      ],
      "metadata": {
        "id": "lkuRuM5q6eUF"
      }
    },
    {
      "cell_type": "code",
      "source": [
        "mean1, std1 = class_analysis(pvp_less_350,0)\n"
      ],
      "metadata": {
        "colab": {
          "base_uri": "https://localhost:8080/",
          "referenced_widgets": [
            "e03901dffe7b430190c15fabbe762bc7",
            "280e3ab1dc1f4ba790594589f203d368",
            "d3440cd03d1243b38a8809e955abcd32",
            "373e4bd8bc3645508ee60e459e4ff135",
            "71b0f04a109b4ce69d9a4d1e993a53a0",
            "4e6878af45ad46869cd21d9dd488b0c9",
            "e58c264e3a364de68e83a13366c8d68a",
            "a0da9c6dc18a4a50a0dab1cceab7c17d",
            "39bf53e48eb34dc08e084db1ee70eb5d",
            "8b596fb4d03b4da19fa39b78d27476d4",
            "8b4d9a61723a4fe5ac613e68ab7a4c08"
          ]
        },
        "id": "zlWTM2pD6eWs",
        "outputId": "90fd338b-47f2-499e-f722-25c3bf0180dd"
      },
      "execution_count": null,
      "outputs": [
        {
          "output_type": "display_data",
          "data": {
            "text/plain": [
              "  0%|          | 0/100 [00:00<?, ?it/s]"
            ],
            "application/vnd.jupyter.widget-view+json": {
              "version_major": 2,
              "version_minor": 0,
              "model_id": "e03901dffe7b430190c15fabbe762bc7"
            }
          },
          "metadata": {}
        }
      ]
    },
    {
      "cell_type": "code",
      "source": [
        "avg_mean_std(mean1,std1,'pvp_less_350')"
      ],
      "metadata": {
        "colab": {
          "base_uri": "https://localhost:8080/"
        },
        "id": "RSNlAWea6eZR",
        "outputId": "0e0e27bc-8980-44ad-d04c-9939ef1f4236"
      },
      "execution_count": null,
      "outputs": [
        {
          "output_type": "stream",
          "name": "stdout",
          "text": [
            "Average mean of pvp_less_350 is 0.017085272818803787\n",
            "Average std of pvp_less_350 is 0.006727147847414017\n",
            "Variance of pvp_less_350 is 0.08201919194562951\n"
          ]
        }
      ]
    },
    {
      "cell_type": "code",
      "source": [
        "mean2, std2 = class_analysis(pvp_greater_350,0)"
      ],
      "metadata": {
        "colab": {
          "base_uri": "https://localhost:8080/",
          "height": 49,
          "referenced_widgets": [
            "3807d1bd410a4e88b6580e66ccaeaf76",
            "c984654841704e57b95e78de810f95ad",
            "e3562b59b0934a0998b5423f7768c152",
            "7ecc652532b94a099c1bec1b2fa2ac82",
            "244b439e6ecf473bbe7695dc3c87c767",
            "a2adf907c66e490dbd5f0e3571693476",
            "ca4ccbf268514fe2b84a3049307784c7",
            "08f4c7088fb441e889e02e9c7ab31a1a",
            "6043534471514761a62ecddd446a8683",
            "5ef0e17169da4b75a65061d0ff74e5c3",
            "05f0d711cc3c41d8ac06295f9e5c19b3"
          ]
        },
        "id": "x-neC2u06ebY",
        "outputId": "fd34268a-a54f-4840-e672-707ee7ecab1b"
      },
      "execution_count": null,
      "outputs": [
        {
          "output_type": "display_data",
          "data": {
            "text/plain": [
              "  0%|          | 0/100 [00:00<?, ?it/s]"
            ],
            "application/vnd.jupyter.widget-view+json": {
              "version_major": 2,
              "version_minor": 0,
              "model_id": "3807d1bd410a4e88b6580e66ccaeaf76"
            }
          },
          "metadata": {}
        }
      ]
    },
    {
      "cell_type": "code",
      "source": [
        "avg_mean_std(mean2,std2,'pvp_greater_350')"
      ],
      "metadata": {
        "colab": {
          "base_uri": "https://localhost:8080/"
        },
        "id": "R1XSS6C0QoQw",
        "outputId": "873c2e53-750e-4e27-9b90-55e31dc1c25a"
      },
      "execution_count": null,
      "outputs": [
        {
          "output_type": "stream",
          "name": "stdout",
          "text": [
            "Average mean of pvp_greater_350 is 0.02105090767145157\n",
            "Average std of pvp_greater_350 is 0.008458198048174381\n",
            "Variance of pvp_greater_350 is 0.09196846224752472\n"
          ]
        }
      ]
    },
    {
      "cell_type": "code",
      "source": [
        "mean3, std3 = class_analysis(nonpvp_greater_275,1)"
      ],
      "metadata": {
        "colab": {
          "base_uri": "https://localhost:8080/",
          "referenced_widgets": [
            "c2fc3870c2c04225a96a8305df070189",
            "2b5b9f3c4276448593115f0a9aff3533",
            "59c0d8e642c645799eb4e021253e59b5",
            "82eb106ed2954a36973d990a3cfcdd2e",
            "d950b98842fc4d3395aa0977d068cb5c",
            "7669fab8bba148f6974cd712f3c931e3",
            "777884bfaca9483dbda5dbbe399062d6",
            "29a80eb1d9b54f9b8ce450e86212277a",
            "5a7c6abd2dc046c085aa2f0e9ea51e1a",
            "d5660f8c5a8546f4b4893dd26c804231",
            "aff1da8ea4e04733a05ccfe82ed0b407"
          ]
        },
        "id": "-7E04QQHC2-S",
        "outputId": "488f5e60-ed86-4570-800f-8cf5d42e2c1a"
      },
      "execution_count": null,
      "outputs": [
        {
          "output_type": "display_data",
          "data": {
            "text/plain": [
              "  0%|          | 0/100 [00:00<?, ?it/s]"
            ],
            "application/vnd.jupyter.widget-view+json": {
              "version_major": 2,
              "version_minor": 0,
              "model_id": "c2fc3870c2c04225a96a8305df070189"
            }
          },
          "metadata": {}
        }
      ]
    },
    {
      "cell_type": "code",
      "source": [
        "avg_mean_std(mean3,std3,'nonpvp_less_275')"
      ],
      "metadata": {
        "colab": {
          "base_uri": "https://localhost:8080/"
        },
        "id": "OvqH6TIfe3cf",
        "outputId": "1e077e53-e9e9-483e-be84-866ab9dfd042"
      },
      "execution_count": null,
      "outputs": [
        {
          "output_type": "stream",
          "name": "stdout",
          "text": [
            "Average mean of nonpvp_less_275 is 0.9877812266349792\n",
            "Average std of nonpvp_less_275 is 0.00503484858199954\n",
            "Variance of nonpvp_less_275 is 0.07095666693130069\n"
          ]
        }
      ]
    },
    {
      "cell_type": "code",
      "source": [
        "mean4, std4 = class_analysis(nonpvp_less_275,1)"
      ],
      "metadata": {
        "colab": {
          "base_uri": "https://localhost:8080/",
          "referenced_widgets": [
            "08515e0bec764194b48758f405a4725a",
            "d02cf892ad8641fc9f25bc6e17bda6c8",
            "73fae6552645473c8ee863e6d8524d4f",
            "4ea95f53b8c240ba9ef47f49ca3b5a1e",
            "d2b96d95e00f42869e698d8ccc1a93b3",
            "bb69ee71de354c259089a9a3e4617d29",
            "ee242d2edf9b46759d4c1bcf74d13c41",
            "e6cedf689a5847c78ac5557cf437a65c",
            "12b63b4f957f43299030a6cc6a3eea4d",
            "a33254acdd0640cb9abbe080ab107209",
            "8c8df99272aa427fbd8b37a19865b46c"
          ]
        },
        "id": "KqOLTV5HC0Fv",
        "outputId": "7188dcc3-36da-4168-8e63-18fff0e5ab41"
      },
      "execution_count": null,
      "outputs": [
        {
          "output_type": "display_data",
          "data": {
            "text/plain": [
              "  0%|          | 0/100 [00:00<?, ?it/s]"
            ],
            "application/vnd.jupyter.widget-view+json": {
              "version_major": 2,
              "version_minor": 0,
              "model_id": "08515e0bec764194b48758f405a4725a"
            }
          },
          "metadata": {}
        }
      ]
    },
    {
      "cell_type": "code",
      "source": [
        "avg_mean_std(mean4,std4,'nonpvp_less_275')"
      ],
      "metadata": {
        "colab": {
          "base_uri": "https://localhost:8080/"
        },
        "id": "IVf6-2qyDY5u",
        "outputId": "3762f768-29cd-4814-880d-0e9255c189a4"
      },
      "execution_count": null,
      "outputs": [
        {
          "output_type": "stream",
          "name": "stdout",
          "text": [
            "Average mean of nonpvp_less_275 is 0.9870733618736267\n",
            "Average std of nonpvp_less_275 is 0.005263575818389654\n",
            "Variance of nonpvp_less_275 is 0.07255050529382724\n"
          ]
        }
      ]
    },
    {
      "cell_type": "code",
      "source": [
        "(0.002401000587269664)**0.5"
      ],
      "metadata": {
        "colab": {
          "base_uri": "https://localhost:8080/"
        },
        "id": "9a_djF4wuipr",
        "outputId": "b048c56a-23de-4abb-bd03-b8cf378e87e3"
      },
      "execution_count": null,
      "outputs": [
        {
          "output_type": "execute_result",
          "data": {
            "text/plain": [
              "0.049000005992547224"
            ]
          },
          "metadata": {},
          "execution_count": 59
        }
      ]
    },
    {
      "cell_type": "markdown",
      "source": [
        "# For MCD 0.1 on the model\n",
        "\n",
        "- pvp less than 350 : \\\n",
        "Average mean of pvp_less_350 is 0.017535490915179253 \\\n",
        "Average std of pvp_less_350 is 0.004626351408660412\n",
        "\n",
        "- pvp greater than 350 : \\\n",
        "Average mean of pvp_greater_350 is 0.02031843177974224 \\\n",
        "Average std of pvp_greater_350 is 0.005295093636959791\n",
        "\n",
        "- nonpvp less than 275 : \\\n",
        "Average mean of nonpvp_less_275 is 0.9867517948150635 \\\n",
        "Average std of nonpvp_less_275 is 0.0034977763425558805\n",
        "\n",
        "- nonpvp greater than 275 : \\\n",
        "Average mean of nonpvp_less_275 is 0.9863763451576233 \\\n",
        "Average std of nonpvp_less_275 is 0.0035937875509262085\n",
        "\n",
        "\n",
        "# For MCD 0.2 on the model\n",
        "\n",
        "- pvp less than 350 : \\\n",
        "Average mean of pvp_less_350 is 0.01828889548778534 \\\n",
        "Average std of pvp_less_350 is 0.007324965205043554\n",
        "\n",
        "- pvp greater than 350 : \\\n",
        "Average mean of pvp_greater_350 is 0.021099166944622993 \\\n",
        "Average std of pvp_greater_350 is 0.008316176943480968\n",
        "\n",
        "- nonpvp less than 275 : \\\n",
        "Average mean of nonpvp_less_275 is 0.9859197735786438 \\\n",
        "Average std of nonpvp_less_275 is 0.005708306562155485\n",
        "\n",
        "- nonpvp greater than 275 : \\\n",
        "Average mean of nonpvp_less_275 is 0.9857237935066223 \\\n",
        "Average std of nonpvp_less_275 is 0.005873146466910839\n",
        "\n",
        "# For MCD 0.05 on the model\n",
        "\n",
        "- pvp less than 350 : \\\n",
        "Average mean of pvp_less_350 is 0.0172299575060606 \\\n",
        "Average std of pvp_less_350 is 0.0030657576862722635\n",
        "- pvp greater than 350 : \\\n",
        "Average mean of pvp_greater_350 is 0.019836224615573883 \\\n",
        "Average std of pvp_greater_350 is 0.0035125508438795805\n",
        "- nonpvp less than 275 \\\n",
        "Average mean of nonpvp_less_275 is 0.9870141744613647 \\\n",
        "Average std of nonpvp_less_275 is 0.0023620305582880974\n",
        "- nonpvp greater than 275 \\\n",
        "Average mean of nonpvp_less_275 is 0.9866258502006531 \\\n",
        "Average std of nonpvp_less_275 is 0.002401000587269664"
      ],
      "metadata": {
        "id": "emh0BODL91WO"
      }
    },
    {
      "cell_type": "code",
      "source": [],
      "metadata": {
        "id": "EbGptEvUEZIB"
      },
      "execution_count": null,
      "outputs": []
    }
  ]
}